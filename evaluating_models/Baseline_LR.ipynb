{
 "cells": [
  {
   "cell_type": "code",
   "execution_count": 1,
   "id": "ca1dcced-c89c-4938-b206-a5add8c7b1f2",
   "metadata": {},
   "outputs": [
    {
     "name": "stdout",
     "output_type": "stream",
     "text": [
      "Baseline MSE: 13027210884.35\n"
     ]
    }
   ],
   "source": [
    "from sklearn.model_selection import train_test_split\n",
    "from sklearn.metrics import mean_squared_error\n",
    "import numpy as np\n",
    "import pandas as pd\n",
    "\n",
    "# Example data\n",
    "data = pd.DataFrame({\n",
    "    'Square Footage': [1500, 1800, 2400, 3000, 3500, 1200, 1800, 1600, 2200, 2600],\n",
    "    'Age': [10, 15, 20, 5, 3, 30, 25, 5, 10, 1],\n",
    "    'Sale Price': [400000, 500000, 600000, 650000, 700000, 350000, 450000, 400000, 550000, 600000]\n",
    "})\n",
    "\n",
    "# Splitting the data\n",
    "X_train, X_test, y_train, y_test = train_test_split(data[['Square Footage', \n",
    "                'Age']], data['Sale Price'], test_size=0.3, random_state=42)\n",
    "\n",
    "# Computing the mean of the Sale Price from training data\n",
    "mean_price = y_train.mean()\n",
    "\n",
    "# Using the mean as the prediction for all instances in the test set\n",
    "y_pred = np.full(shape=(len(y_test),), fill_value=mean_price)\n",
    "\n",
    "# Calculating the Mean Squared Error\n",
    "mse = mean_squared_error(y_test, y_pred)\n",
    "print(f\"Baseline MSE: {mse:.2f}\")\n"
   ]
  },
  {
   "cell_type": "code",
   "execution_count": null,
   "id": "28e8f67f-9dea-4c13-be43-e544730fa6f2",
   "metadata": {},
   "outputs": [],
   "source": []
  }
 ],
 "metadata": {
  "kernelspec": {
   "display_name": "Python 3 (ipykernel)",
   "language": "python",
   "name": "python3"
  },
  "language_info": {
   "codemirror_mode": {
    "name": "ipython",
    "version": 3
   },
   "file_extension": ".py",
   "mimetype": "text/x-python",
   "name": "python",
   "nbconvert_exporter": "python",
   "pygments_lexer": "ipython3",
   "version": "3.9.12"
  }
 },
 "nbformat": 4,
 "nbformat_minor": 5
}
