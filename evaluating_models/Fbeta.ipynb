{
 "cells": [
  {
   "cell_type": "code",
   "execution_count": 1,
   "id": "42d7dbba-454b-42e4-ab46-ac1ad335fa23",
   "metadata": {},
   "outputs": [
    {
     "name": "stdout",
     "output_type": "stream",
     "text": [
      "Precision: 0.89\n",
      "Recall: 0.73\n",
      "F1 Score: 0.80\n",
      "F2 Score: 0.75\n"
     ]
    }
   ],
   "source": [
    "from sklearn.metrics import precision_recall_fscore_support\n",
    "\n",
    "# Simulated predictions and actual labels\n",
    "y_true = [0, 1, 1, 0, 1, 1, 0, 0, 1, 0, 1, 1, 0, 1, 1, 0, 0, 1, 0, 1]\n",
    "y_pred = [0, 1, 1, 0, 1, 0, 0, 0, 1, 0, 0, 1, 0, 1, 1, 0, 1, 1, 0, 0]\n",
    "\n",
    "# Calculate precision, recall, and F-scores\n",
    "precision, recall, f1, _ = precision_recall_fscore_support(y_true, y_pred, beta=1, average='binary')\n",
    "_, _, f2, _ = precision_recall_fscore_support(y_true, y_pred, beta=2, average='binary')\n",
    "\n",
    "print(f\"Precision: {precision:.2f}\")\n",
    "print(f\"Recall: {recall:.2f}\")\n",
    "print(f\"F1 Score: {f1:.2f}\")\n",
    "print(f\"F2 Score: {f2:.2f}\")  # More weight on recall\n"
   ]
  },
  {
   "cell_type": "code",
   "execution_count": null,
   "id": "f0abdd62-aaf2-44fe-8bc6-b510653ae6a9",
   "metadata": {},
   "outputs": [],
   "source": []
  }
 ],
 "metadata": {
  "kernelspec": {
   "display_name": "Python 3 (ipykernel)",
   "language": "python",
   "name": "python3"
  },
  "language_info": {
   "codemirror_mode": {
    "name": "ipython",
    "version": 3
   },
   "file_extension": ".py",
   "mimetype": "text/x-python",
   "name": "python",
   "nbconvert_exporter": "python",
   "pygments_lexer": "ipython3",
   "version": "3.9.12"
  }
 },
 "nbformat": 4,
 "nbformat_minor": 5
}
