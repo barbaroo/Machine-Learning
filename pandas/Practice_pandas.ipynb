{
 "cells": [
  {
   "cell_type": "code",
   "execution_count": 1,
   "id": "1921f420-c6d9-40ca-a157-c1d70677d820",
   "metadata": {},
   "outputs": [],
   "source": [
    "import seaborn as sns\n",
    "import pandas as pd\n",
    "import matplotlib.pyplot as plt"
   ]
  },
  {
   "cell_type": "markdown",
   "id": "6030a3ed-df59-4fdc-add3-c3fe32a4c17c",
   "metadata": {},
   "source": [
    "# PANDAS PRACTICE NOTEBOOK"
   ]
  },
  {
   "cell_type": "markdown",
   "id": "97df3520-f4ba-4358-b631-3b0e98e595d4",
   "metadata": {},
   "source": [
    "Welcome to this pandas practice notebook! You will load two datasets that are commonly used for educational purposes, one about the passengers of the titanic (yay!) and one about plant characteristics. Follow the instructions! You might have to google something, and that is completely fine and part of the process:) enjoy!"
   ]
  },
  {
   "cell_type": "markdown",
   "id": "2b0861c1-529b-4639-bb67-70d1847751a9",
   "metadata": {},
   "source": [
    "### 1 - Basic data manipulation and cleaning"
   ]
  },
  {
   "cell_type": "markdown",
   "id": "76b5fc0a-fc22-4c64-a9d3-e67b5aaa0936",
   "metadata": {},
   "source": [
    "Load the titanic dataset"
   ]
  },
  {
   "cell_type": "code",
   "execution_count": 4,
   "id": "157f5b71-72f9-41e4-bb98-e6885ef828cd",
   "metadata": {},
   "outputs": [],
   "source": [
    "data = sns.load_dataset('titanic')"
   ]
  },
  {
   "cell_type": "code",
   "execution_count": 5,
   "id": "a27d034a-5556-4211-bbce-0773b0db8538",
   "metadata": {},
   "outputs": [
    {
     "data": {
      "text/html": [
       "<div>\n",
       "<style scoped>\n",
       "    .dataframe tbody tr th:only-of-type {\n",
       "        vertical-align: middle;\n",
       "    }\n",
       "\n",
       "    .dataframe tbody tr th {\n",
       "        vertical-align: top;\n",
       "    }\n",
       "\n",
       "    .dataframe thead th {\n",
       "        text-align: right;\n",
       "    }\n",
       "</style>\n",
       "<table border=\"1\" class=\"dataframe\">\n",
       "  <thead>\n",
       "    <tr style=\"text-align: right;\">\n",
       "      <th></th>\n",
       "      <th>survived</th>\n",
       "      <th>pclass</th>\n",
       "      <th>sex</th>\n",
       "      <th>age</th>\n",
       "      <th>sibsp</th>\n",
       "      <th>parch</th>\n",
       "      <th>fare</th>\n",
       "      <th>embarked</th>\n",
       "      <th>class</th>\n",
       "      <th>who</th>\n",
       "      <th>adult_male</th>\n",
       "      <th>deck</th>\n",
       "      <th>embark_town</th>\n",
       "      <th>alive</th>\n",
       "      <th>alone</th>\n",
       "    </tr>\n",
       "  </thead>\n",
       "  <tbody>\n",
       "    <tr>\n",
       "      <th>0</th>\n",
       "      <td>0</td>\n",
       "      <td>3</td>\n",
       "      <td>male</td>\n",
       "      <td>22.0</td>\n",
       "      <td>1</td>\n",
       "      <td>0</td>\n",
       "      <td>7.2500</td>\n",
       "      <td>S</td>\n",
       "      <td>Third</td>\n",
       "      <td>man</td>\n",
       "      <td>True</td>\n",
       "      <td>NaN</td>\n",
       "      <td>Southampton</td>\n",
       "      <td>no</td>\n",
       "      <td>False</td>\n",
       "    </tr>\n",
       "    <tr>\n",
       "      <th>1</th>\n",
       "      <td>1</td>\n",
       "      <td>1</td>\n",
       "      <td>female</td>\n",
       "      <td>38.0</td>\n",
       "      <td>1</td>\n",
       "      <td>0</td>\n",
       "      <td>71.2833</td>\n",
       "      <td>C</td>\n",
       "      <td>First</td>\n",
       "      <td>woman</td>\n",
       "      <td>False</td>\n",
       "      <td>C</td>\n",
       "      <td>Cherbourg</td>\n",
       "      <td>yes</td>\n",
       "      <td>False</td>\n",
       "    </tr>\n",
       "    <tr>\n",
       "      <th>2</th>\n",
       "      <td>1</td>\n",
       "      <td>3</td>\n",
       "      <td>female</td>\n",
       "      <td>26.0</td>\n",
       "      <td>0</td>\n",
       "      <td>0</td>\n",
       "      <td>7.9250</td>\n",
       "      <td>S</td>\n",
       "      <td>Third</td>\n",
       "      <td>woman</td>\n",
       "      <td>False</td>\n",
       "      <td>NaN</td>\n",
       "      <td>Southampton</td>\n",
       "      <td>yes</td>\n",
       "      <td>True</td>\n",
       "    </tr>\n",
       "    <tr>\n",
       "      <th>3</th>\n",
       "      <td>1</td>\n",
       "      <td>1</td>\n",
       "      <td>female</td>\n",
       "      <td>35.0</td>\n",
       "      <td>1</td>\n",
       "      <td>0</td>\n",
       "      <td>53.1000</td>\n",
       "      <td>S</td>\n",
       "      <td>First</td>\n",
       "      <td>woman</td>\n",
       "      <td>False</td>\n",
       "      <td>C</td>\n",
       "      <td>Southampton</td>\n",
       "      <td>yes</td>\n",
       "      <td>False</td>\n",
       "    </tr>\n",
       "    <tr>\n",
       "      <th>4</th>\n",
       "      <td>0</td>\n",
       "      <td>3</td>\n",
       "      <td>male</td>\n",
       "      <td>35.0</td>\n",
       "      <td>0</td>\n",
       "      <td>0</td>\n",
       "      <td>8.0500</td>\n",
       "      <td>S</td>\n",
       "      <td>Third</td>\n",
       "      <td>man</td>\n",
       "      <td>True</td>\n",
       "      <td>NaN</td>\n",
       "      <td>Southampton</td>\n",
       "      <td>no</td>\n",
       "      <td>True</td>\n",
       "    </tr>\n",
       "    <tr>\n",
       "      <th>...</th>\n",
       "      <td>...</td>\n",
       "      <td>...</td>\n",
       "      <td>...</td>\n",
       "      <td>...</td>\n",
       "      <td>...</td>\n",
       "      <td>...</td>\n",
       "      <td>...</td>\n",
       "      <td>...</td>\n",
       "      <td>...</td>\n",
       "      <td>...</td>\n",
       "      <td>...</td>\n",
       "      <td>...</td>\n",
       "      <td>...</td>\n",
       "      <td>...</td>\n",
       "      <td>...</td>\n",
       "    </tr>\n",
       "    <tr>\n",
       "      <th>886</th>\n",
       "      <td>0</td>\n",
       "      <td>2</td>\n",
       "      <td>male</td>\n",
       "      <td>27.0</td>\n",
       "      <td>0</td>\n",
       "      <td>0</td>\n",
       "      <td>13.0000</td>\n",
       "      <td>S</td>\n",
       "      <td>Second</td>\n",
       "      <td>man</td>\n",
       "      <td>True</td>\n",
       "      <td>NaN</td>\n",
       "      <td>Southampton</td>\n",
       "      <td>no</td>\n",
       "      <td>True</td>\n",
       "    </tr>\n",
       "    <tr>\n",
       "      <th>887</th>\n",
       "      <td>1</td>\n",
       "      <td>1</td>\n",
       "      <td>female</td>\n",
       "      <td>19.0</td>\n",
       "      <td>0</td>\n",
       "      <td>0</td>\n",
       "      <td>30.0000</td>\n",
       "      <td>S</td>\n",
       "      <td>First</td>\n",
       "      <td>woman</td>\n",
       "      <td>False</td>\n",
       "      <td>B</td>\n",
       "      <td>Southampton</td>\n",
       "      <td>yes</td>\n",
       "      <td>True</td>\n",
       "    </tr>\n",
       "    <tr>\n",
       "      <th>888</th>\n",
       "      <td>0</td>\n",
       "      <td>3</td>\n",
       "      <td>female</td>\n",
       "      <td>NaN</td>\n",
       "      <td>1</td>\n",
       "      <td>2</td>\n",
       "      <td>23.4500</td>\n",
       "      <td>S</td>\n",
       "      <td>Third</td>\n",
       "      <td>woman</td>\n",
       "      <td>False</td>\n",
       "      <td>NaN</td>\n",
       "      <td>Southampton</td>\n",
       "      <td>no</td>\n",
       "      <td>False</td>\n",
       "    </tr>\n",
       "    <tr>\n",
       "      <th>889</th>\n",
       "      <td>1</td>\n",
       "      <td>1</td>\n",
       "      <td>male</td>\n",
       "      <td>26.0</td>\n",
       "      <td>0</td>\n",
       "      <td>0</td>\n",
       "      <td>30.0000</td>\n",
       "      <td>C</td>\n",
       "      <td>First</td>\n",
       "      <td>man</td>\n",
       "      <td>True</td>\n",
       "      <td>C</td>\n",
       "      <td>Cherbourg</td>\n",
       "      <td>yes</td>\n",
       "      <td>True</td>\n",
       "    </tr>\n",
       "    <tr>\n",
       "      <th>890</th>\n",
       "      <td>0</td>\n",
       "      <td>3</td>\n",
       "      <td>male</td>\n",
       "      <td>32.0</td>\n",
       "      <td>0</td>\n",
       "      <td>0</td>\n",
       "      <td>7.7500</td>\n",
       "      <td>Q</td>\n",
       "      <td>Third</td>\n",
       "      <td>man</td>\n",
       "      <td>True</td>\n",
       "      <td>NaN</td>\n",
       "      <td>Queenstown</td>\n",
       "      <td>no</td>\n",
       "      <td>True</td>\n",
       "    </tr>\n",
       "  </tbody>\n",
       "</table>\n",
       "<p>891 rows × 15 columns</p>\n",
       "</div>"
      ],
      "text/plain": [
       "     survived  pclass     sex   age  sibsp  parch     fare embarked   class  \\\n",
       "0           0       3    male  22.0      1      0   7.2500        S   Third   \n",
       "1           1       1  female  38.0      1      0  71.2833        C   First   \n",
       "2           1       3  female  26.0      0      0   7.9250        S   Third   \n",
       "3           1       1  female  35.0      1      0  53.1000        S   First   \n",
       "4           0       3    male  35.0      0      0   8.0500        S   Third   \n",
       "..        ...     ...     ...   ...    ...    ...      ...      ...     ...   \n",
       "886         0       2    male  27.0      0      0  13.0000        S  Second   \n",
       "887         1       1  female  19.0      0      0  30.0000        S   First   \n",
       "888         0       3  female   NaN      1      2  23.4500        S   Third   \n",
       "889         1       1    male  26.0      0      0  30.0000        C   First   \n",
       "890         0       3    male  32.0      0      0   7.7500        Q   Third   \n",
       "\n",
       "       who  adult_male deck  embark_town alive  alone  \n",
       "0      man        True  NaN  Southampton    no  False  \n",
       "1    woman       False    C    Cherbourg   yes  False  \n",
       "2    woman       False  NaN  Southampton   yes   True  \n",
       "3    woman       False    C  Southampton   yes  False  \n",
       "4      man        True  NaN  Southampton    no   True  \n",
       "..     ...         ...  ...          ...   ...    ...  \n",
       "886    man        True  NaN  Southampton    no   True  \n",
       "887  woman       False    B  Southampton   yes   True  \n",
       "888  woman       False  NaN  Southampton    no  False  \n",
       "889    man        True    C    Cherbourg   yes   True  \n",
       "890    man        True  NaN   Queenstown    no   True  \n",
       "\n",
       "[891 rows x 15 columns]"
      ]
     },
     "execution_count": 5,
     "metadata": {},
     "output_type": "execute_result"
    }
   ],
   "source": [
    "data"
   ]
  },
  {
   "cell_type": "markdown",
   "id": "62cc9d39-55d1-49df-b02a-fb8270d0027e",
   "metadata": {},
   "source": [
    "- How do you change the index of a DataFrame? Demonstrate this by setting the 'embark_town' column as the new index. Then change it back to a numerical index."
   ]
  },
  {
   "cell_type": "code",
   "execution_count": null,
   "id": "39c00fe3-64e6-4576-bb5b-0f3831f67b58",
   "metadata": {},
   "outputs": [],
   "source": []
  },
  {
   "cell_type": "markdown",
   "id": "270af219-fc38-4cc6-a731-7397e158bdc8",
   "metadata": {},
   "source": [
    "- Identify and handle missing values in the dataset. Use both the deletion method - when the data type is categorical - and the imputation method - when the data is numerical.\n"
   ]
  },
  {
   "cell_type": "code",
   "execution_count": null,
   "id": "77f63447-6d50-40d1-b12e-bdb5629be090",
   "metadata": {},
   "outputs": [],
   "source": []
  },
  {
   "cell_type": "markdown",
   "id": "65a36403-5444-44df-a5bf-a736cd1d5242",
   "metadata": {},
   "source": [
    "- Filter the rows of the DataFrame to only include rows where the passenger age value is greater than 26."
   ]
  },
  {
   "cell_type": "code",
   "execution_count": null,
   "id": "28aa7272-95ac-43d2-ab2d-fde88efc6a35",
   "metadata": {},
   "outputs": [],
   "source": []
  },
  {
   "cell_type": "markdown",
   "id": "b32f1d7f-9c29-40a0-acf5-db7f4a4dae19",
   "metadata": {},
   "source": [
    "- Now filter the rows so that passengers are older than 86, female, and survived the shipwreck."
   ]
  },
  {
   "cell_type": "code",
   "execution_count": null,
   "id": "78ac6f4c-b782-45c8-b58d-4837f4e26f51",
   "metadata": {},
   "outputs": [],
   "source": []
  },
  {
   "cell_type": "markdown",
   "id": "345bb21e-c95c-4eca-b588-b8bc591efd8f",
   "metadata": {},
   "source": [
    "- Group data by one column (sex) and calculate the mean of another column per group (pclass). Check out the use of 'groupby'!"
   ]
  },
  {
   "cell_type": "code",
   "execution_count": null,
   "id": "f14ada0c-fb77-44e4-8729-ecc048128243",
   "metadata": {},
   "outputs": [],
   "source": []
  },
  {
   "cell_type": "markdown",
   "id": "f39094ea-3501-45c2-bfc1-5520146c1288",
   "metadata": {},
   "source": [
    "- Look at these two new dataframes, about student exams. Perform a merging operation between the two DataFrames on a the common 'Student ID' column."
   ]
  },
  {
   "cell_type": "code",
   "execution_count": null,
   "id": "e7f91833-52b6-460c-b85c-bb900925d4a0",
   "metadata": {},
   "outputs": [],
   "source": [
    "# Example DataFrames\n",
    "students = pd.DataFrame({\n",
    "    'Student ID': [1, 2, 3],\n",
    "    'Name': ['Alice', 'Bob', 'Charlie']\n",
    "})\n",
    "\n",
    "grades = pd.DataFrame({\n",
    "    'Student ID': [2, 1, 3],\n",
    "    'Grade': ['A', 'B', 'A-']\n",
    "})\n"
   ]
  },
  {
   "cell_type": "code",
   "execution_count": null,
   "id": "e5abfd4d-6038-4f29-bd77-9093283b2501",
   "metadata": {},
   "outputs": [],
   "source": []
  },
  {
   "cell_type": "markdown",
   "id": "606fd8a3-115e-4329-a662-c8b43da099c8",
   "metadata": {},
   "source": [
    "### 2 - Basic data analysis and plotting"
   ]
  },
  {
   "cell_type": "markdown",
   "id": "9bceaccc-becb-4a30-974b-c9ed654499ed",
   "metadata": {},
   "source": [
    "- Now upload a new dataset, iris. This is a biology dataset with plant characteristics:"
   ]
  },
  {
   "cell_type": "code",
   "execution_count": null,
   "id": "ce0c02e4-af1c-42fc-87be-133707e043c4",
   "metadata": {},
   "outputs": [],
   "source": [
    "data = sns.load_dataset('iris')"
   ]
  },
  {
   "cell_type": "markdown",
   "id": "2580f3b3-c243-4266-a3d2-9cbdd44d2bd5",
   "metadata": {},
   "source": [
    "- Create a scatterplot of the two variables petal_length and petal_width."
   ]
  },
  {
   "cell_type": "code",
   "execution_count": null,
   "id": "24dd065f-e3e6-4892-b13b-617a6fb6e267",
   "metadata": {},
   "outputs": [],
   "source": [
    "\n",
    "\n",
    "...\n",
    "\n",
    "plt.tight_layout()"
   ]
  },
  {
   "cell_type": "markdown",
   "id": "120f5991-b1e1-4bed-b804-0e41033b7473",
   "metadata": {},
   "source": [
    "- Create a boxplot of petal_width with respect to the species of the plant."
   ]
  },
  {
   "cell_type": "code",
   "execution_count": null,
   "id": "589ce19e-4509-43e1-b8a2-eca742ffc583",
   "metadata": {},
   "outputs": [],
   "source": []
  },
  {
   "cell_type": "markdown",
   "id": "18b9052c-2174-4974-bc88-a06ded014426",
   "metadata": {},
   "source": [
    "- Make histogram of petal_width"
   ]
  },
  {
   "cell_type": "code",
   "execution_count": null,
   "id": "9d0fa4c2-16be-4697-84bc-3baf27ebd9b5",
   "metadata": {},
   "outputs": [],
   "source": []
  },
  {
   "cell_type": "markdown",
   "id": "23d6641b-d3b2-424c-bfe1-4c0dbc7c0826",
   "metadata": {},
   "source": [
    "- Based on these plots, it looks like plant features correlate highly with each other! Calculate correlations within the dataset."
   ]
  },
  {
   "cell_type": "code",
   "execution_count": null,
   "id": "693ac9ff-6801-4058-81ac-157b89859e51",
   "metadata": {},
   "outputs": [],
   "source": []
  },
  {
   "cell_type": "markdown",
   "id": "7e37c95b-13b7-4e16-9655-b2f16d9d5fb6",
   "metadata": {},
   "source": [
    "- Describe the dataset (mean, sum, count, quartiles of the variables, etc)"
   ]
  },
  {
   "cell_type": "code",
   "execution_count": null,
   "id": "529499f8-df91-48e7-b1aa-7cb84c48b531",
   "metadata": {},
   "outputs": [],
   "source": []
  }
 ],
 "metadata": {
  "kernelspec": {
   "display_name": "Python 3 (ipykernel)",
   "language": "python",
   "name": "python3"
  },
  "language_info": {
   "codemirror_mode": {
    "name": "ipython",
    "version": 3
   },
   "file_extension": ".py",
   "mimetype": "text/x-python",
   "name": "python",
   "nbconvert_exporter": "python",
   "pygments_lexer": "ipython3",
   "version": "3.9.12"
  }
 },
 "nbformat": 4,
 "nbformat_minor": 5
}
