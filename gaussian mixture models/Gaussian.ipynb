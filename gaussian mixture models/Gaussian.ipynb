{
 "cells": [
  {
   "cell_type": "code",
   "execution_count": 1,
   "id": "8c0c37bb-d696-41ca-b375-8c18e95d6f93",
   "metadata": {},
   "outputs": [
    {
     "data": {
      "image/png": "[encoded data removed]",
      "text/plain": [
       "<Figure size 432x288 with 1 Axes>"
      ]
     },
     "metadata": {
      "needs_background": "light"
     },
     "output_type": "display_data"
    }
   ],
   "source": [
    "from scipy.stats import skewnorm\n",
    "from scipy.stats import shapiro\n",
    "import matplotlib.pyplot as plt\n",
    "\n",
    "numValues = 10000\n",
    "maxValue = 100\n",
    "skewness = 20\n",
    "\n",
    "random = skewnorm.rvs(a = skewness , loc = maxValue, size = numValues)\n",
    "\n",
    "random = random - min(random)\n",
    "random = random/max(random)\n",
    "random = random * maxValue\n",
    "\n",
    "x = random\n",
    "\n",
    "plt.hist(x, bins = 50);\n"
   ]
  },
  {
   "cell_type": "code",
   "execution_count": 3,
   "id": "24dcbb49-925b-43e7-a145-e755eda83d7a",
   "metadata": {},
   "outputs": [
    {
     "data": {
      "image/png": "[encoded data removed]",
      "text/plain": [
       "<Figure size 432x288 with 1 Axes>"
      ]
     },
     "metadata": {
      "needs_background": "light"
     },
     "output_type": "display_data"
    }
   ],
   "source": [
    "plt.hist(x**0.3, bins = 50);"
   ]
  },
  {
   "cell_type": "code",
   "execution_count": 4,
   "id": "03f9db4a-3cae-4a77-a1ad-b86c3368dc1d",
   "metadata": {},
   "outputs": [
    {
     "name": "stderr",
     "output_type": "stream",
     "text": [
      "C:\\Users\\31649\\AppData\\Roaming\\Python\\Python39\\site-packages\\scipy\\stats\\_morestats.py:1816: UserWarning: p-value may not be accurate for N > 5000.\n",
      "  warnings.warn(\"p-value may not be accurate for N > 5000.\")\n"
     ]
    },
    {
     "data": {
      "text/plain": [
       "ShapiroResult(statistic=0.9324662089347839, pvalue=0.0)"
      ]
     },
     "execution_count": 4,
     "metadata": {},
     "output_type": "execute_result"
    }
   ],
   "source": [
    "shapiro(x)"
   ]
  },
  {
   "cell_type": "code",
   "execution_count": 5,
   "id": "48034862-8ba3-4c01-89d5-24245a65a403",
   "metadata": {},
   "outputs": [
    {
     "data": {
      "text/plain": [
       "ShapiroResult(statistic=0.9888945817947388, pvalue=3.225021691984925e-27)"
      ]
     },
     "execution_count": 5,
     "metadata": {},
     "output_type": "execute_result"
    }
   ],
   "source": [
    "shapiro(x**0.5)"
   ]
  },
  {
   "cell_type": "code",
   "execution_count": 17,
   "id": "328895db-e498-487c-a039-2e0bf6e91d33",
   "metadata": {},
   "outputs": [
    {
     "data": {
      "image/png": "[encoded data removed]",
      "text/plain": [
       "<Figure size 432x288 with 1 Axes>"
      ]
     },
     "metadata": {
      "needs_background": "light"
     },
     "output_type": "display_data"
    }
   ],
   "source": [
    "import numpy as np\n",
    "plt.hist(np.log(x + 3), bins = 50);"
   ]
  },
  {
   "cell_type": "code",
   "execution_count": 21,
   "id": "04dc0252-1736-4f2c-a3d0-6dabd0ff7e6a",
   "metadata": {},
   "outputs": [
    {
     "data": {
      "text/plain": [
       "ShapiroResult(statistic=0.9875144362449646, pvalue=1.027838116810979e-28)"
      ]
     },
     "execution_count": 21,
     "metadata": {},
     "output_type": "execute_result"
    }
   ],
   "source": [
    "shapiro(np.log(x + 5))"
   ]
  },
  {
   "cell_type": "code",
   "execution_count": null,
   "id": "1c18afe5-9a53-48c0-a335-47a6348b0712",
   "metadata": {},
   "outputs": [],
   "source": []
  }
 ],
 "metadata": {
  "kernelspec": {
   "display_name": "Python 3 (ipykernel)",
   "language": "python",
   "name": "python3"
  },
  "language_info": {
   "codemirror_mode": {
    "name": "ipython",
    "version": 3
   },
   "file_extension": ".py",
   "mimetype": "text/x-python",
   "name": "python",
   "nbconvert_exporter": "python",
   "pygments_lexer": "ipython3",
   "version": "3.9.12"
  }
 },
 "nbformat": 4,
 "nbformat_minor": 5
}
