{
 "cells": [
  {
   "cell_type": "code",
   "execution_count": 1,
   "id": "d01d192a-fa3b-45eb-adad-5080c312aaa9",
   "metadata": {},
   "outputs": [
    {
     "name": "stdout",
     "output_type": "stream",
     "text": [
      "Encoded Labels: [2 0 1 2 1]\n",
      "Original Categories: ['red' 'blue' 'green' 'red' 'green']\n"
     ]
    }
   ],
   "source": [
    "from sklearn.preprocessing import LabelEncoder\n",
    "\n",
    "# Sample data: a list of categories\n",
    "categories = ['red', 'blue', 'green', 'red', 'green']\n",
    "\n",
    "# Create a LabelEncoder object\n",
    "encoder = LabelEncoder()\n",
    "\n",
    "# Fit the encoder on the data and then transform the data into labels\n",
    "encoded_labels = encoder.fit_transform(categories)\n",
    "\n",
    "# Print the encoded labels\n",
    "print(\"Encoded Labels:\", encoded_labels)\n",
    "\n",
    "# To retrieve the original categories from the encoded labels\n",
    "original_categories = encoder.inverse_transform(encoded_labels)\n",
    "print(\"Original Categories:\", original_categories)\n"
   ]
  },
  {
   "cell_type": "code",
   "execution_count": null,
   "id": "eb3774df-7db9-4580-864c-69eb004bf74f",
   "metadata": {},
   "outputs": [],
   "source": []
  }
 ],
 "metadata": {
  "kernelspec": {
   "display_name": "Python 3 (ipykernel)",
   "language": "python",
   "name": "python3"
  },
  "language_info": {
   "codemirror_mode": {
    "name": "ipython",
    "version": 3
   },
   "file_extension": ".py",
   "mimetype": "text/x-python",
   "name": "python",
   "nbconvert_exporter": "python",
   "pygments_lexer": "ipython3",
   "version": "3.9.12"
  }
 },
 "nbformat": 4,
 "nbformat_minor": 5
}
