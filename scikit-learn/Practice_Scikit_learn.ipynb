{
 "cells": [
  {
   "cell_type": "markdown",
   "id": "63c1929c-9531-45a1-bc17-d33e5aa13f19",
   "metadata": {},
   "source": [
    "# SCIKIT-LEARN practice notebook"
   ]
  },
  {
   "cell_type": "markdown",
   "id": "3e83400b-a388-4d03-9670-ccf87a5b66ee",
   "metadata": {},
   "source": [
    "The California Housing dataset, included in sci-kit learn,offers a practical scenario for predicting house prices based on a set of features. The dataset provides a glimpse into the dynamics of the California housing market as of the 1990 census. It includes details from various districts across California, providing a set of variables to analyze and model. Here are the key features:\n",
    "\n",
    "- MedInc: Median income in a block\n",
    "- HouseAge: Median house age in a block\n",
    "- AveRooms: Average number of rooms per household\n",
    "- AveBedrms: Average number of bedrooms per household\n",
    "- Population: Block population\n",
    "- AveOccup: Average house occupancy\n",
    "- Latitude: A block's latitude\n",
    "- Longitude: A block's longitude\n",
    "\n",
    "Follow the instructions of the notebook to build your model for predicting the median house value for California districts (your target).\n",
    "Then, if you have time, you can experiment with different regression models (Ridge, Lasso, DecisionTreeRegressor, etc.) to compare their performance.\n",
    "Check also out the effect of hyperparameter tuning and the value of cross-validation in developing predictive models."
   ]
  },
  {
   "cell_type": "markdown",
   "id": "64075b9f-f82e-40f4-bd4e-e097c0fcd478",
   "metadata": {},
   "source": [
    "### 1 - Load your dataset"
   ]
  },
  {
   "cell_type": "code",
   "execution_count": null,
   "id": "7bfb5ce6-792b-4fb8-bcaa-96e0e527f5f5",
   "metadata": {},
   "outputs": [],
   "source": [
    "from sklearn.datasets import fetch_california_housing\n",
    "\n",
    "# Load dataset\n",
    "california = fetch_california_housing()"
   ]
  },
  {
   "cell_type": "markdown",
   "id": "57c3c0ea-d97d-4612-8d9f-f421cc7bceef",
   "metadata": {},
   "source": [
    "### 2 - Get your data and labels (target)"
   ]
  },
  {
   "cell_type": "code",
   "execution_count": null,
   "id": "a6632857-e898-4ec5-9ab9-3892bd1d37ad",
   "metadata": {},
   "outputs": [],
   "source": []
  },
  {
   "cell_type": "markdown",
   "id": "3b1412e7-e2b2-407c-8a71-183eec5b2f8c",
   "metadata": {},
   "source": [
    "### 3 - Split the Dataset\n",
    "\n",
    "Split the data into training and testing sets to prepare for model training and evaluation. What relative size of training and testing set do you think is appropriate?"
   ]
  },
  {
   "cell_type": "code",
   "execution_count": null,
   "id": "ecfed638-94b3-4416-b35c-043c410825c3",
   "metadata": {},
   "outputs": [],
   "source": []
  },
  {
   "cell_type": "markdown",
   "id": "30863cf6-6ca0-4700-bc17-8bcbabcd1ce4",
   "metadata": {},
   "source": [
    "### 4 - Model Training\n",
    "\n",
    "Train a simple regression model, such as a Linear Regression, as a starting point."
   ]
  },
  {
   "cell_type": "code",
   "execution_count": null,
   "id": "634177cf-545a-46d0-b120-e2ddf3f1357c",
   "metadata": {},
   "outputs": [],
   "source": []
  },
  {
   "cell_type": "markdown",
   "id": "1510fa42-7623-40bd-9de0-38f5dceea4f7",
   "metadata": {},
   "source": [
    "### 5 - Model Evaluation\n",
    "\n",
    "Evaluate the model using the Mean Squared Error (MSE) on the test set."
   ]
  },
  {
   "cell_type": "code",
   "execution_count": null,
   "id": "83bd8060-c260-4cbd-8695-eace434d2548",
   "metadata": {},
   "outputs": [],
   "source": []
  },
  {
   "cell_type": "markdown",
   "id": "583c791f-1994-4f2e-bf3e-8f31c079f130",
   "metadata": {},
   "source": [
    "### 6 - Cross-Validation\n",
    "\n",
    "Use cross-validation to get a more reliable estimate of the model's performance."
   ]
  },
  {
   "cell_type": "code",
   "execution_count": null,
   "id": "e8f3a9eb-986c-4f60-a62b-9247a2dc767d",
   "metadata": {},
   "outputs": [],
   "source": []
  },
  {
   "cell_type": "markdown",
   "id": "4059664a-a452-4d3c-90a8-255235bfb1fc",
   "metadata": {},
   "source": [
    "### 7 - Hyperparameter Tuning Using Grid Search\n",
    "\n",
    "Use Grid Search with cross-validation to optimize the model's hyperparameters. Here, you will explore regularization parameters (alpha) using model like Ridge. For more info: https://scikit-learn.org/stable/modules/generated/sklearn.linear_model.Ridge.html"
   ]
  },
  {
   "cell_type": "code",
   "execution_count": null,
   "id": "9932f3cb-d810-408e-9f46-bab702eb4d3c",
   "metadata": {},
   "outputs": [],
   "source": []
  },
  {
   "cell_type": "markdown",
   "id": "3ccb5c33-b0b9-4b64-8296-27cdb4269643",
   "metadata": {},
   "source": [
    "### 8 - Final Evaluation\n",
    "\n",
    "Evaluate the best model from the grid search on the test set."
   ]
  },
  {
   "cell_type": "code",
   "execution_count": null,
   "id": "4968030b-f4d0-4404-8b5d-dd1a8a76e5f6",
   "metadata": {},
   "outputs": [],
   "source": []
  }
 ],
 "metadata": {
  "kernelspec": {
   "display_name": "Python 3 (ipykernel)",
   "language": "python",
   "name": "python3"
  },
  "language_info": {
   "codemirror_mode": {
    "name": "ipython",
    "version": 3
   },
   "file_extension": ".py",
   "mimetype": "text/x-python",
   "name": "python",
   "nbconvert_exporter": "python",
   "pygments_lexer": "ipython3",
   "version": "3.9.12"
  }
 },
 "nbformat": 4,
 "nbformat_minor": 5
}
